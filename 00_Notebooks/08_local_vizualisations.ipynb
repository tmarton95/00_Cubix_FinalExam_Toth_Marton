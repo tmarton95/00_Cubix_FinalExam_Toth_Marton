{
 "cells": [
  {
   "cell_type": "code",
   "execution_count": null,
   "id": "9973901e",
   "metadata": {},
   "outputs": [],
   "source": [
    "import boto3\n",
    "import pandas as pd\n",
    "import os\n",
    "from io import StringIO\n",
    "pd.set_option(\"display.max_columns\", 50)\n",
    "from matplotlib import pyplot as plt"
   ]
  },
  {
   "cell_type": "code",
   "execution_count": null,
   "id": "c45d6ddc",
   "metadata": {},
   "outputs": [],
   "source": [
    "aws_access_key_id = os.getenv(\"AWS_ACCESS_KEY\")\n",
    "aws_secret_key = os.getenv(\"AWS_SECRET_KEY\")"
   ]
  },
  {
   "cell_type": "code",
   "execution_count": null,
   "id": "bce2086e",
   "metadata": {},
   "outputs": [],
   "source": [
    "def read_csv_from_s3(bucket: str, path: str, filename: str) -> pd.DataFrame:\n",
    "    \"\"\"Downloads a csv file from an S3 bucket.\n",
    "\n",
    "    Parameters\n",
    "     ----------\n",
    "    bucket : str \n",
    "        The bucket where the files at.\n",
    "\n",
    "    path : str\n",
    "         The folders to the file.\n",
    "\n",
    "    filename : str\n",
    "        Name of the file.\n",
    "\n",
    "    Returns\n",
    "    ------\n",
    "    pd.DataFrame\n",
    "        A DataFrame of the downloaded file.\n",
    "    \"\"\"\n",
    "\n",
    "    s3 = boto3.client(\"s3\", aws_access_key_id = aws_access_key_id, aws_secret_access_key = aws_secret_key) \n",
    "\n",
    "    full_path = f\"{path}{filename}\"\n",
    "\n",
    "    object = s3.get_object(Bucket=bucket, Key=full_path)\n",
    "\n",
    "    object = object[\"Body\"].read().decode(\"utf-8\")\n",
    "    output_df = pd.read_csv(StringIO(object))\n",
    "\n",
    "    return output_df"
   ]
  },
  {
   "cell_type": "code",
   "execution_count": null,
   "id": "22fce591",
   "metadata": {},
   "outputs": [],
   "source": [
    "s3 = boto3.client(\"s3\", aws_access_key_id = aws_access_key_id, aws_secret_access_key = aws_secret_key) \n",
    "bucket = \"cubix-taxi-data-tm\"\n",
    "\n",
    "community_areas_path = \"transformed_data/community_areas/\"\n",
    "payment_type_path = \"transformed_data/payment_type/\"\n",
    "company_path = \"transformed_data/company/\"\n",
    "weather_path = \"transformed_data/weather/\"\n",
    "date_path = \"transformed_data/date/\"\n",
    "taxi_trips_path = \"transformed_data/taxi_trips/\"\n",
    "\n",
    "payment_type = read_csv_from_s3(bucket=bucket, path=payment_type_path, filename=\"Payment_type_master.csv\")\n",
    "company = read_csv_from_s3(bucket=bucket, path=company_path, filename=\"Company_master.csv\")\n",
    "date = read_csv_from_s3(bucket=bucket, path=date_path, filename=\"date_dimension.csv\")\n",
    "community_areas = read_csv_from_s3(bucket=bucket, path=community_areas_path, filename=\"community_areas_master.csv\")"
   ]
  },
  {
   "cell_type": "code",
   "execution_count": null,
   "id": "3024d342",
   "metadata": {},
   "outputs": [],
   "source": [
    "trips_list = []\n",
    "weather_list = []"
   ]
  },
  {
   "cell_type": "code",
   "execution_count": null,
   "id": "f21e81f6",
   "metadata": {},
   "outputs": [],
   "source": [
    "# TAXI TRIP DATA transform and loading\n",
    "for file in s3.list_objects(Bucket=bucket, Prefix=taxi_trips_path)[\"Contents\"]:\n",
    "    taxi_trip_key = file[\"Key\"]\n",
    "\n",
    "    if taxi_trip_key.split(\"/\")[-1].strip() != \"\":\n",
    "        if taxi_trip_key.split(\".\")[1] == \"csv\":\n",
    "\n",
    "            filename = taxi_trip_key.split(\"/\")[-1]\n",
    "            trip = read_csv_from_s3(bucket, taxi_trips_path, filename)\n",
    "            trips_list.append(trip)\n",
    "            print(f\"{filename} has been added\")"
   ]
  },
  {
   "cell_type": "code",
   "execution_count": null,
   "id": "07536c98",
   "metadata": {},
   "outputs": [],
   "source": [
    "trips = pd.concat(trips_list, ignore_index=True)"
   ]
  },
  {
   "cell_type": "code",
   "execution_count": null,
   "id": "7e590e7b",
   "metadata": {},
   "outputs": [],
   "source": [
    "for file in s3.list_objects(Bucket=bucket, Prefix=weather_path)[\"Contents\"]:\n",
    "    weather_key = file[\"Key\"]\n",
    "\n",
    "    if weather_key.split(\"/\")[-1].strip() != \"\":\n",
    "        if weather_key.split(\".\")[1] == \"csv\":\n",
    "\n",
    "            filename = weather_key.split(\"/\")[-1]\n",
    "            weather_daily = read_csv_from_s3(bucket, weather_path, filename)\n",
    "            weather_list.append(weather_daily)\n",
    "            print(f\"{filename} has been added\")\n",
    "\n"
   ]
  },
  {
   "cell_type": "code",
   "execution_count": null,
   "id": "7f8f9b5b",
   "metadata": {},
   "outputs": [],
   "source": [
    "weather = pd.concat(weather_list, ignore_index=True)"
   ]
  },
  {
   "cell_type": "code",
   "execution_count": null,
   "id": "c4637885",
   "metadata": {},
   "outputs": [],
   "source": [
    "trips_full = pd.merge(trips, weather, left_on=\"datetime_for_weather\", right_on=\"date_time\", how=\"inner\")\n",
    "trips_full = trips_full.drop(columns=[\"date_time\"])"
   ]
  },
  {
   "cell_type": "code",
   "execution_count": null,
   "id": "9d94058a",
   "metadata": {},
   "outputs": [],
   "source": [
    "trips_full = pd.merge(trips_full, company, left_on=\"company_id\", right_on=\"company_id\", how=\"inner\")\n",
    "trips_full = trips_full.drop(columns=[\"company_id\"])"
   ]
  },
  {
   "cell_type": "code",
   "execution_count": null,
   "id": "cb995e33",
   "metadata": {},
   "outputs": [],
   "source": [
    "trips_full = pd.merge(trips_full, payment_type, left_on=\"payment_type_id\", right_on=\"payment_type_id\", how=\"inner\")\n",
    "trips_full = trips_full.drop(columns=[\"payment_type_id\"])"
   ]
  },
  {
   "cell_type": "code",
   "execution_count": null,
   "id": "e5fe25fe",
   "metadata": {},
   "outputs": [],
   "source": [
    "trips_full = pd.merge(trips_full, community_areas, left_on=\"pickup_community_area_id\", right_on=\"area_code\", how=\"inner\")\n",
    "trips_full = trips_full.drop(columns=[\"pickup_community_area_id\"])\n",
    "trips_full.rename(columns={\"community_name\": \"pickup_community_area_id\"})"
   ]
  },
  {
   "cell_type": "code",
   "execution_count": null,
   "id": "0e12d525",
   "metadata": {},
   "outputs": [],
   "source": [
    "trips_full = pd.merge(trips_full, community_areas, left_on=\"dropoff_community_area_id\", right_on=\"area_code\", how=\"inner\")\n",
    "trips_full = trips_full.drop(columns=[\"dropoff_community_area_id\"])\n",
    "trips_full.rename(columns={\"community_name\": \"dropoff_community_area_id\"})"
   ]
  },
  {
   "cell_type": "code",
   "execution_count": null,
   "id": "901c2e5f",
   "metadata": {},
   "outputs": [],
   "source": [
    "date[\"Date\"] = pd.to_datetime(date[\"Date\"])\n",
    "trips_full[\"trip_start_timestamp\"] = pd.to_datetime(trips_full[\"trip_start_timestamp\"])\n",
    "\n",
    "trips_full[\"trip_start_date\"] = trips_full[\"trip_start_timestamp\"].dt.date\n",
    "trips_full[\"trip_start_date\"] = pd.to_datetime(trips_full[\"trip_start_date\"])"
   ]
  },
  {
   "cell_type": "code",
   "execution_count": null,
   "id": "f80a53ba",
   "metadata": {},
   "outputs": [],
   "source": [
    "trips_full = pd.merge(trips_full, date, left_on=\"trip_start_timestamp\", right_on=\"Date\", how=\"inner\")"
   ]
  },
  {
   "cell_type": "code",
   "execution_count": null,
   "id": "a3754fbe",
   "metadata": {},
   "outputs": [],
   "source": [
    "trips_full"
   ]
  },
  {
   "cell_type": "code",
   "execution_count": null,
   "id": "85397189",
   "metadata": {},
   "outputs": [],
   "source": [
    "trips_per_day_df = trips_full.groupby(\"day_of_week\", as_index=False)[\"trip_id\"].count()"
   ]
  },
  {
   "cell_type": "code",
   "execution_count": null,
   "id": "4e75bcc2",
   "metadata": {},
   "outputs": [],
   "source": [
    "trips_per_day_df"
   ]
  },
  {
   "cell_type": "code",
   "execution_count": null,
   "id": "f9f4058e",
   "metadata": {},
   "outputs": [],
   "source": [
    "days_nr = {1: \"Monday\", 2: \"Tuesday\", 3: \"Wednesday\", 4: \"Thursday\", 5: \"Friday\", 6: \"Saturday\", 7: \"Sunday\"}"
   ]
  },
  {
   "cell_type": "code",
   "execution_count": null,
   "id": "29470a97",
   "metadata": {},
   "outputs": [],
   "source": [
    "trips_per_day_df[\"day_names\"] = trips_per_day_df[\"day_of_week\"].replace(days_nr)"
   ]
  },
  {
   "cell_type": "code",
   "execution_count": null,
   "id": "6ad8b4d0",
   "metadata": {},
   "outputs": [],
   "source": [
    "trips_per_day_df"
   ]
  },
  {
   "cell_type": "code",
   "execution_count": null,
   "id": "5048fdbb",
   "metadata": {},
   "outputs": [],
   "source": [
    "plt.bar(trips_per_day_df[\"day_names\"], trips_per_day_df[\"trip_id\"])\n",
    "plt.tight_layout()\n",
    "plt.ylabel(\"Number of Trips\")\n",
    "plt.title(\"Number of Taxi trips per day\")\n",
    "\n",
    "plt.tight_layout()\n"
   ]
  },
  {
   "cell_type": "code",
   "execution_count": null,
   "id": "b58bd3a4",
   "metadata": {},
   "outputs": [],
   "source": [
    "temp_per_day_df = trips_full.groupby(\"day\", as_index=False)[\"temperature\"].mean()\n",
    "temp_per_day_df"
   ]
  },
  {
   "cell_type": "code",
   "execution_count": null,
   "id": "c3365aed",
   "metadata": {},
   "outputs": [],
   "source": [
    "trips_per_day_df = trips_full.groupby(\"day\", as_index=False)[\"trip_id\"].count()\n",
    "trips_per_day_df"
   ]
  },
  {
   "cell_type": "code",
   "execution_count": null,
   "id": "c5f46f88",
   "metadata": {},
   "outputs": [],
   "source": [
    "fig, ax1 = plt.subplots()\n",
    "\n",
    "ax1.bar(trips_per_day_df[\"day\"], trips_per_day_df[\"trip_id\"])\n",
    "ax1.set_ylabel(\"Number of Trips\")\n",
    "ax1.tick_params(axis=\"y\")\n",
    "ax1.set_xlabel(\"Day of July\")\n",
    "\n",
    "ax2 = ax1.twinx()\n",
    "ax2.plot(temp_per_day_df[\"day\"],temp_per_day_df[\"temperature\"], color=\"red\", marker=\"o\")\n",
    "ax2.set_ylabel(\"Mean Temperature [°C]\", color=\"red\")\n",
    "ax2.tick_params(axis=\"y\", labelcolor=\"red\")\n",
    "ax2.set_xticks(range(5, 16, 1))\n",
    "\n",
    "plt.title(\"Mean temperature and number of trips for each day\")\n",
    "fig.tight_layout()\n",
    "\n",
    "plt.show()"
   ]
  },
  {
   "cell_type": "code",
   "execution_count": null,
   "id": "7a80edb2",
   "metadata": {},
   "outputs": [],
   "source": [
    "wind_per_day_df = trips_full.groupby(\"day\", as_index=False)[\"wind_speed\"].mean()\n",
    "wind_per_day_df"
   ]
  },
  {
   "cell_type": "code",
   "execution_count": null,
   "id": "c08ed7f6",
   "metadata": {},
   "outputs": [],
   "source": [
    "fig, ax1 = plt.subplots()\n",
    "\n",
    "ax1.bar(trips_per_day_df[\"day\"], trips_per_day_df[\"trip_id\"])\n",
    "ax1.set_ylabel(\"Number of Trips\")\n",
    "ax1.tick_params(axis=\"y\")\n",
    "ax1.set_xlabel(\"Day of July\")\n",
    "\n",
    "ax2 = ax1.twinx()\n",
    "ax2.plot(wind_per_day_df[\"day\"],wind_per_day_df[\"wind_speed\"], color=\"red\", marker=\"o\")\n",
    "ax2.set_ylabel(\"Mean wind-speed [m/s]\", color=\"red\")\n",
    "ax2.tick_params(axis=\"y\", labelcolor=\"red\")\n",
    "ax2.set_xticks(range(5, 16, 1))\n",
    "\n",
    "plt.title(\"Mean wind-speed and number of trips for each day\")\n",
    "fig.tight_layout()\n",
    "\n",
    "plt.show()"
   ]
  },
  {
   "cell_type": "code",
   "execution_count": null,
   "id": "8d3529d3",
   "metadata": {},
   "outputs": [],
   "source": [
    "rain_per_day_df = trips_full.groupby(\"day\", as_index=False)[\"rain\"].mean()\n",
    "rain_per_day_df"
   ]
  },
  {
   "cell_type": "code",
   "execution_count": null,
   "id": "2ab96efc",
   "metadata": {},
   "outputs": [],
   "source": [
    "fig, ax1 = plt.subplots()\n",
    "\n",
    "ax1.bar(trips_per_day_df[\"day\"], trips_per_day_df[\"trip_id\"])\n",
    "ax1.set_ylabel(\"Number of Trips\")\n",
    "ax1.tick_params(axis=\"y\")\n",
    "ax1.set_xlabel(\"Day of July\")\n",
    "\n",
    "ax2 = ax1.twinx()\n",
    "ax2.plot(rain_per_day_df[\"day\"],rain_per_day_df[\"rain\"], color=\"red\", marker=\"o\")\n",
    "ax2.set_ylabel(\"Rain perception\", color=\"red\")\n",
    "ax2.tick_params(axis=\"y\", labelcolor=\"red\")\n",
    "ax2.set_xticks(range(5, 16, 1))\n",
    "\n",
    "plt.title(\"Rain perception and number of trips for each day\")\n",
    "fig.tight_layout()\n",
    "\n",
    "plt.show()"
   ]
  },
  {
   "cell_type": "code",
   "execution_count": null,
   "id": "cbc84b93",
   "metadata": {},
   "outputs": [],
   "source": [
    "pay_per_day_df = trips_full.groupby(\"payment_type\", as_index=False)[\"trip_id\"].count()\n",
    "pay_per_day_df"
   ]
  },
  {
   "cell_type": "code",
   "execution_count": null,
   "id": "205788f2",
   "metadata": {},
   "outputs": [],
   "source": [
    "plt.bar(pay_per_day_df[\"payment_type\"], pay_per_day_df[\"trip_id\"])\n",
    "plt.tight_layout()\n",
    "plt.ylabel(\"Number of Trips\")\n",
    "plt.title(\"Number of Taxi trips per payment-type\")\n",
    "\n",
    "plt.tight_layout()"
   ]
  },
  {
   "cell_type": "code",
   "execution_count": null,
   "id": "47c53191",
   "metadata": {},
   "outputs": [],
   "source": []
  }
 ],
 "metadata": {
  "kernelspec": {
   "display_name": "Python 3",
   "language": "python",
   "name": "python3"
  },
  "language_info": {
   "codemirror_mode": {
    "name": "ipython",
    "version": 3
   },
   "file_extension": ".py",
   "mimetype": "text/x-python",
   "name": "python",
   "nbconvert_exporter": "python",
   "pygments_lexer": "ipython3",
   "version": "3.13.1"
  }
 },
 "nbformat": 4,
 "nbformat_minor": 5
}
