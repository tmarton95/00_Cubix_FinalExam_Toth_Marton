{
 "cells": [
  {
   "cell_type": "code",
   "execution_count": 1,
   "id": "44472da9",
   "metadata": {},
   "outputs": [],
   "source": [
    "from bs4 import BeautifulSoup\n",
    "import pandas as pd\n",
    "import requests"
   ]
  },
  {
   "cell_type": "code",
   "execution_count": 2,
   "id": "0b2c7688",
   "metadata": {},
   "outputs": [],
   "source": [
    "url=\"https://en.wikipedia.org/wiki/Community_areas_in_Chicago\"\n",
    "headers = {\"User-Agent\": \"Mozilla/5.0(compatible;MyScraper/1.0)\"}\n",
    "\n",
    "response = requests.get(url=url, headers=headers)\n",
    "\n",
    "soup = BeautifulSoup(response.content, 'html.parser')\n",
    "\n",
    "# print(soup)\n",
    "\n",
    "title = soup.find(id='firstHeading')"
   ]
  },
  {
   "cell_type": "code",
   "execution_count": 9,
   "id": "b2e60a87",
   "metadata": {},
   "outputs": [],
   "source": [
    "for table in soup.find_all(\"table\"):\n",
    "    print(table.get(\"class\"))"
   ]
  },
  {
   "cell_type": "code",
   "execution_count": null,
   "id": "cb2959fe",
   "metadata": {},
   "outputs": [],
   "source": [
    "table = soup.find(\"table\", class_ = \"wikitable sortable plainworheaders mwd-atatable\")"
   ]
  },
  {
   "cell_type": "code",
   "execution_count": null,
   "id": "3c01d994",
   "metadata": {},
   "outputs": [],
   "source": [
    "for row in table.tbody.findAll[2:-1]:\n",
    "    cells = row.find_all(\"tr\")\n",
    "    print(row)\n",
    "    print(\"-\"*100)"
   ]
  },
  {
   "cell_type": "code",
   "execution_count": null,
   "id": "bb3a2d7b",
   "metadata": {},
   "outputs": [],
   "source": [
    "for row in table.tbody.findAll[2:-1]:\n",
    "    header_cell = row.find(\"th\")\n",
    "    print(header_cell.a.get_text(Strip=True))"
   ]
  },
  {
   "cell_type": "code",
   "execution_count": null,
   "id": "1c90fe2a",
   "metadata": {},
   "outputs": [],
   "source": [
    "data = []\n",
    "\n",
    "for row in table.tbody.findAll[2:-1]:\n",
    "    cells = row.find_all(\"tr\")\n",
    "    header_cell = row.find(\"th\")\n",
    "    area_code = cells[0].get_text(strip=True)\n",
    "    community_name = header_cell.a.get_text(Strip=True)\n",
    "\n",
    "    data.append({\"area_code\": area_code, \"community_name\": community_name})"
   ]
  },
  {
   "cell_type": "code",
   "execution_count": null,
   "id": "97ed5335",
   "metadata": {},
   "outputs": [],
   "source": [
    "community_areas = pd.DataFrame(data)\n",
    "\n",
    "community_areas[\"area_code\"] = community_areas[\"area_code\"].astype(int)"
   ]
  },
  {
   "cell_type": "code",
   "execution_count": null,
   "id": "18aada44",
   "metadata": {},
   "outputs": [],
   "source": [
    "community_areas.to_csv(\"community_areas_master.csv\", index=False)"
   ]
  }
 ],
 "metadata": {
  "kernelspec": {
   "display_name": "Python 3",
   "language": "python",
   "name": "python3"
  },
  "language_info": {
   "codemirror_mode": {
    "name": "ipython",
    "version": 3
   },
   "file_extension": ".py",
   "mimetype": "text/x-python",
   "name": "python",
   "nbconvert_exporter": "python",
   "pygments_lexer": "ipython3",
   "version": "3.13.1"
  }
 },
 "nbformat": 4,
 "nbformat_minor": 5
}
