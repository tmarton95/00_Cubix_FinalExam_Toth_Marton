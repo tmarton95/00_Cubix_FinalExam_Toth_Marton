{
 "cells": [
  {
   "cell_type": "code",
   "execution_count": null,
   "id": "46575e6d",
   "metadata": {},
   "outputs": [],
   "source": [
    "import pandas as pd\n",
    "import requests\n",
    "import os\n",
    "from datetime import datetime\n",
    "from dateutil.relativedelta import relativedelta\n",
    "import json"
   ]
  },
  {
   "cell_type": "code",
   "execution_count": null,
   "id": "6839e2f4",
   "metadata": {},
   "outputs": [],
   "source": [
    "\"\"\"\"\n",
    "1. get the data from S3\n",
    "2. weather data trnasformations\n",
    "3. taxi trip transformations\n",
    "4. update payment type master\n",
    "5. update company master\n",
    "6. update taxi trips with payment and company ids\n",
    "7. upload weather data to s3\n",
    "8. upload taxi data to s3\n",
    "9. upload latest company and payment master\n",
    "\"\"\""
   ]
  },
  {
   "cell_type": "markdown",
   "id": "fa0d308a",
   "metadata": {},
   "source": [
    "### Taxi trip transformation"
   ]
  },
  {
   "cell_type": "code",
   "execution_count": null,
   "id": "8d1bfd38",
   "metadata": {},
   "outputs": [],
   "source": [
    "current_datetime = datetime.now() - relativedelta(months=2)\n",
    "\n",
    "formatted_datetime = current_datetime.strftime(\"%Y-%m-%d\")\n",
    "\n",
    "# headers ={\"X-App Token\": os.environ.get(\"CHICAGO_API_TOKEN\")}\n",
    "\n",
    "url = (\n",
    "    f\"https://data.cityofchicago.org/resource/ajtu-isnz.json?\"\n",
    "    f\"$where=trip_start_timestamp >= '{formatted_datetime}T00:00:00' \"\n",
    "    f\"AND trip_start_timestamp <= '{formatted_datetime}T23:59:59'&$limit=30000\")\n",
    "\n",
    "\n",
    "response = requests.get(url)\n",
    "\n",
    "data = response.json()\n",
    "\n",
    "taxi_trips = pd.DataFrame(data)"
   ]
  },
  {
   "cell_type": "code",
   "execution_count": null,
   "id": "de1a74d5",
   "metadata": {},
   "outputs": [],
   "source": [
    "taxi_trips.drop([\"pickup_census_tract\", \"dropoff_census_tract\"], axis=1, inplace=True)\n",
    "taxi_trips.drop([\"pickup_centroid_location\", \"dropoff_centroid_location\"], axis=1, inplace=True)\n",
    "taxi_trips.dropna(inplace=True)\n",
    "\n",
    "taxi_trips.rename(columns={\"pickup_community_area\": \"pickup_community_area_id\", \"dropoff_community_area\": \"dropoff_community_area_id\"}, inplace=True)\n",
    "\n",
    "taxi_trips[\"datetime_for_weather\"] = pd.to_datetime(taxi_trips[\"trip_start_timestamp\"]).dt.floor(\"h\")\n",
    "# taxi_trips[\"datetime_for_weather\"] = taxi_trips[\"datetime_for_weather\"].dt.floor(\"h\")"
   ]
  },
  {
   "cell_type": "markdown",
   "id": "821618c2",
   "metadata": {},
   "source": [
    "#### Taxi trip transform: function"
   ]
  },
  {
   "cell_type": "code",
   "execution_count": null,
   "id": "21fbb586",
   "metadata": {},
   "outputs": [],
   "source": [
    "def taxi_trip_tranformation(taxi_trips: pd.DataFrame) -> pd.DataFrame:\n",
    "    \"\"\"Perform transformation with taxi data\n",
    "\n",
    "    Parameters\n",
    "    ----------\n",
    "    taxi_trips: pd.DataFrame\n",
    "        dataframe holding the daily tayi infos\n",
    "\n",
    "    Returns\n",
    "    -------\n",
    "    pd.DataFrame\n",
    "        cleaned, transformed dataframe\n",
    "    \"\"\"\n",
    "    if not isinstance(taxi_trips, pd.DataFrame):\n",
    "        raise TypeError(\"taxi trips is not a valid dataframe\")\n",
    "\n",
    "    taxi_trips.drop([\"pickup_census_tract\", \"dropoff_census_tract\"], axis=1, inplace=True)\n",
    "    taxi_trips.drop([\"pickup_centroid_location\", \"dropoff_centroid_location\"], axis=1, inplace=True)\n",
    "    taxi_trips.dropna(inplace=True)\n",
    "\n",
    "    taxi_trips.rename(columns={\"pickup_community_area\": \"pickup_community_area_id\", \"dropoff_community_area\": \"dropoff_community_area_id\"}, inplace=True)\n",
    "\n",
    "    taxi_trips[\"datetime_for_weather\"] = pd.to_datetime(taxi_trips[\"trip_start_timestamp\"]).dt.floor(\"h\")\n",
    "\n",
    "    return taxi_trips"
   ]
  },
  {
   "cell_type": "markdown",
   "id": "0857cd3a",
   "metadata": {},
   "source": [
    "#### company update codes"
   ]
  },
  {
   "cell_type": "code",
   "execution_count": null,
   "id": "6f10862b",
   "metadata": {},
   "outputs": [],
   "source": [
    "company_master = taxi_trips[\"company\"].drop_duplicates().reset_index(drop=True)\n",
    "\n",
    "company_master = pd.DataFrame(\n",
    "    {\n",
    "        \"company_id\" : range(1, len(company_master) + 1),\n",
    "        \"company\": company_master\n",
    "    })\n",
    "\n",
    "company_master.tail()"
   ]
  },
  {
   "cell_type": "code",
   "execution_count": null,
   "id": "290c7915",
   "metadata": {},
   "outputs": [],
   "source": [
    "new_company_data = [\n",
    "    {\"company\": \"Sun Taxi\"},\n",
    "    {\"company\": \"X\"},\n",
    "    {\"company\": \"Y\"}]\n",
    "\n",
    "new_company_mapping = pd.DataFrame(new_company_data)\n",
    "\n",
    "new_company_mapping"
   ]
  },
  {
   "cell_type": "code",
   "execution_count": null,
   "id": "f469bbf7",
   "metadata": {},
   "outputs": [],
   "source": [
    "company_max_id = company_master[\"company_id\"].max()"
   ]
  },
  {
   "cell_type": "code",
   "execution_count": null,
   "id": "c4978237",
   "metadata": {},
   "outputs": [],
   "source": [
    "new_companies_list = []\n",
    "\n",
    "for company in new_company_mapping[\"company\"].values:\n",
    "    if company not in company_master[\"company\"].values:\n",
    "        new_companies_list.append(company)\n"
   ]
  },
  {
   "cell_type": "code",
   "execution_count": null,
   "id": "2f789fe6",
   "metadata": {},
   "outputs": [],
   "source": [
    "new_companies_df = pd.DataFrame({\n",
    "    \"company_id\": range(company_max_id + 1, company_max_id + len(new_companies_list) + 1),\n",
    "    \"company\": new_companies_list\n",
    "})\n",
    "\n",
    "new_companies_df"
   ]
  },
  {
   "cell_type": "code",
   "execution_count": null,
   "id": "feb47cfc",
   "metadata": {},
   "outputs": [],
   "source": [
    "updated_company_master = pd.concat([company_master, new_companies_df], ignore_index=True)\n",
    "\n",
    "updated_company_master.tail()"
   ]
  },
  {
   "cell_type": "code",
   "execution_count": null,
   "id": "d8870bd0",
   "metadata": {},
   "outputs": [],
   "source": [
    "def update_company_master(taxi_trips: pd.DataFrame, company_master: pd.DataFrame) -> pd.DataFrame:\n",
    "    \"\"\"\n",
    "\n",
    "    Parameters\n",
    "    ----------\n",
    "\n",
    "    Returns\n",
    "    -------\n",
    "\n",
    "    \"\"\"\n",
    "    company_max_id = company_master[\"company_id\"].max()\n",
    "\n",
    "    new_companies_list = []\n",
    "\n",
    "    for company in taxi_trips[\"company\"].values:\n",
    "        if company not in company_master[\"company\"].values:\n",
    "            new_companies_list.append(company)\n",
    "\n",
    "    new_companies_df = pd.DataFrame({\n",
    "    \"company_id\": range(company_max_id + 1, company_max_id + len(new_companies_list) + 1),\n",
    "    \"company\": new_companies_list\n",
    "    })\n",
    "    updated_company_master = pd.concat([company_master, new_companies_df], ignore_index=True)\n",
    "\n",
    "    return updated_company_master"
   ]
  },
  {
   "cell_type": "code",
   "execution_count": null,
   "id": "6813580b",
   "metadata": {},
   "outputs": [],
   "source": [
    "taxi_trips_only_company = pd.DataFrame({\n",
    "    \"company_id\": [1, 2, 3],\n",
    "    \"company\": [\"Sun Tax\", \"X\", \"Y\"]\n",
    "})\n",
    "\n",
    "updated_company_master = update_company_master(taxi_trips=taxi_trips_only_company, company_master=company_master)"
   ]
  },
  {
   "cell_type": "markdown",
   "id": "7b18646f",
   "metadata": {},
   "source": [
    "### paymanet type master codes"
   ]
  },
  {
   "cell_type": "code",
   "execution_count": null,
   "id": "b032629b",
   "metadata": {},
   "outputs": [],
   "source": [
    "payment_type_master = taxi_trips[\"payment_type\"].drop_duplicates().reset_index(drop=True)\n",
    "\n",
    "payment_type_master = pd.DataFrame(\n",
    "    {\n",
    "        \"payment_type_id\" : range(1, len(payment_type_master) + 1),\n",
    "        \"payment_type\": payment_type_master\n",
    "    })\n",
    "\n",
    "\n",
    "taxi_trips_paymant_type_only = pd.DataFrame({\n",
    "    \"payment_type_id\": [1, 2, 3],\n",
    "    \"payment_type\": [\"Credit Card\", \"X\", \"Y\"]\n",
    "})\n"
   ]
  },
  {
   "cell_type": "code",
   "execution_count": null,
   "id": "3f16078b",
   "metadata": {},
   "outputs": [],
   "source": [
    "def update_payment_type_master(taxi_trips: pd.DataFrame, payment_type_master: pd.DataFrame) -> pd.DataFrame:\n",
    "    \"\"\"\n",
    "\n",
    "    Parameters\n",
    "    ----------\n",
    "\n",
    "    Returns\n",
    "    -------\n",
    "\n",
    "    \"\"\"\n",
    "    payment_type_max_id = payment_type_master[\"payment_type_id\"].max()\n",
    "\n",
    "    new_payment_type_list = []\n",
    "\n",
    "    for payment_type in taxi_trips[\"payment_type\"].values:\n",
    "        if payment_type not in payment_type_master[\"payment_type\"].values:\n",
    "            new_payment_type_list.append(payment_type)\n",
    "\n",
    "    new_payment_type_df = pd.DataFrame({\n",
    "    \"payment_type_id\": range(payment_type_max_id + 1, payment_type_max_id + len(new_payment_type_df) + 1),\n",
    "    \"payment_type\": new_payment_type_list\n",
    "    })\n",
    "\n",
    "    updated_payment_master = pd.concat([payment_type_master, new_payment_type_df], ignore_index=True)\n",
    "\n",
    "    return updated_payment_master"
   ]
  },
  {
   "cell_type": "markdown",
   "id": "1dcc2658",
   "metadata": {},
   "source": [
    "### Create general master table function"
   ]
  },
  {
   "cell_type": "code",
   "execution_count": null,
   "id": "a90dada7",
   "metadata": {},
   "outputs": [],
   "source": [
    "def update_master(taxi_trips: pd.DataFrame, master: pd.DataFrame, id_column: str, value_column: str) -> pd.DataFrame:\n",
    "    \"\"\"\n",
    "\n",
    "    Parameters\n",
    "    ----------\n",
    "\n",
    "    Returns\n",
    "    -------\n",
    "\n",
    "    \"\"\"\n",
    "    max_id = master[id_column].max()\n",
    "\n",
    "    new_values_list = []\n",
    "\n",
    "    for value in taxi_trips[value_column].values:\n",
    "        if value not in master[value_column].values:\n",
    "            new_values_list.append(value)\n",
    "\n",
    "    new_values_df = pd.DataFrame({\n",
    "    id_column: range(max_id + 1, max_id + len(new_values_list) + 1),\n",
    "    value_column: new_values_list\n",
    "    })\n",
    "\n",
    "    updated_master = pd.concat([master, new_values_df], ignore_index=True)\n",
    "\n",
    "    return updated_master"
   ]
  },
  {
   "cell_type": "markdown",
   "id": "6a8deed8",
   "metadata": {},
   "source": [
    "### update taxi_trips with most recent masters"
   ]
  },
  {
   "cell_type": "code",
   "execution_count": null,
   "id": "63eb64a0",
   "metadata": {},
   "outputs": [],
   "source": [
    "def update_taxi_trips_with_masters(taxi_trips: pd.DataFrame, payment_type_master: pd.DataFrame, company_master: pd. DataFrame) -> pd.DataFrame:\n",
    "    \"\"\"_summary_\n",
    "\n",
    "    Args:\n",
    "        taxi_trips (pd.DataFrame): _description_\n",
    "        payment_type_master (pd.DataFrame): _description_\n",
    "        company_master (pd.DataFrame): _description_\n",
    "\n",
    "    Returns:\n",
    "        pd.DataFrame: _description_\n",
    "    \"\"\"\n",
    "\n",
    "    taxi_trips_id = taxi_trips.merge(payment_type_master, on = \"payment_type\")\n",
    "\n",
    "    taxi_trips_id = taxi_trips_id.merge(company_master, on = \"company\")\n",
    "\n",
    "    taxi_trips_id.drop([\"payment_type\", \"company\"], axis = 1, inplace=True)\n",
    "\n",
    "    return taxi_trips_id"
   ]
  },
  {
   "cell_type": "code",
   "execution_count": null,
   "id": "453cc135",
   "metadata": {},
   "outputs": [],
   "source": [
    "taxi_trips_id = update_taxi_trips_with_masters(taxi_trips=taxi_trips, payment_type_master=payment_type_master, company_master=company_master)\n",
    "\n",
    "taxi_trips_id.sample(5)"
   ]
  },
  {
   "cell_type": "markdown",
   "id": "a7a9fd86",
   "metadata": {},
   "source": [
    "### weather transformation function"
   ]
  },
  {
   "cell_type": "code",
   "execution_count": null,
   "id": "fa51702b",
   "metadata": {},
   "outputs": [],
   "source": [
    "def transform_weather_data(weather_data: json) -> pd.DataFrame:\n",
    "    \"\"\"Make tranforms on daily api weather responses\n",
    "\n",
    "    Parameters:\n",
    "        weather_data: (JSON)\n",
    "\n",
    "    Returns:\n",
    "        pd.DataFrame: _description_\n",
    "    \"\"\"\n",
    "\n",
    "    weather_data_filtered = {\"date_time\": weather_data[\"hourly\"][\"time\"], \n",
    "        \"temperature\": weather_data[\"hourly\"][\"temperature_2m\"],\n",
    "        \"wind_speed\": weather_data[\"hourly\"][\"wind_speed_10m\"],\n",
    "        \"rain\": weather_data[\"hourly\"][\"rain\"],\n",
    "        \"precipitation\" : weather_data[\"hourly\"][\"precipitation\"] }\n",
    "\n",
    "\n",
    "    weather_df = pd.DataFrame(weather_data_filtered)\n",
    "\n",
    "    weather_df[\"date_time\"] = pd.to_datetime(weather_df[\"date_time\"])\n",
    "\n",
    "    return weather_df\n"
   ]
  },
  {
   "cell_type": "code",
   "execution_count": null,
   "id": "0a71f666",
   "metadata": {},
   "outputs": [],
   "source": [
    "# Test\n",
    "\n",
    "url_mod = \"https://archive-api.open-meteo.com/v1/era5\"\n",
    "\n",
    "current_datetime = datetime.now() - relativedelta(months=2)\n",
    "\n",
    "formatted_datetime = current_datetime.strftime(\"%Y-%m-%d\")\n",
    "\n",
    "params = {\n",
    "    \"latitude\" : 41.85, \n",
    "    \"longitude\" : -87.65,\n",
    "    \"start_date\" : formatted_datetime,\n",
    "    \"end_date\" : formatted_datetime,\n",
    "    \"hourly\" : \"temperature_2m,wind_speed_10m,rain,precipitation\"\n",
    "    }\n",
    "\n",
    "response_mod = requests.get(url_mod, params=params)\n",
    "\n",
    "weather_data = response_mod.json()\n",
    "\n",
    "weather_data_df = transform_weather_data(weather_data=weather_data)"
   ]
  },
  {
   "cell_type": "code",
   "execution_count": null,
   "id": "9b55bf76",
   "metadata": {},
   "outputs": [],
   "source": [
    "weather_data_df.sample(5)"
   ]
  },
  {
   "cell_type": "code",
   "execution_count": null,
   "id": "9b2e9b4f",
   "metadata": {},
   "outputs": [],
   "source": []
  },
  {
   "cell_type": "code",
   "execution_count": null,
   "id": "50875d54",
   "metadata": {},
   "outputs": [],
   "source": []
  }
 ],
 "metadata": {
  "kernelspec": {
   "display_name": "Python 3",
   "language": "python",
   "name": "python3"
  },
  "language_info": {
   "codemirror_mode": {
    "name": "ipython",
    "version": 3
   },
   "file_extension": ".py",
   "mimetype": "text/x-python",
   "name": "python",
   "nbconvert_exporter": "python",
   "pygments_lexer": "ipython3",
   "version": "3.13.1"
  }
 },
 "nbformat": 4,
 "nbformat_minor": 5
}
