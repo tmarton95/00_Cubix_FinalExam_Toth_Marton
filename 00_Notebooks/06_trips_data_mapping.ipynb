{
 "cells": [
  {
   "cell_type": "markdown",
   "id": "3b1899a0",
   "metadata": {},
   "source": [
    "### Import modules"
   ]
  },
  {
   "cell_type": "code",
   "execution_count": null,
   "id": "3e4c96ea",
   "metadata": {},
   "outputs": [],
   "source": [
    "import pandas as pd\n",
    "import requests\n",
    "import os\n",
    "from datetime import datetime\n",
    "from dateutil.relativedelta import relativedelta"
   ]
  },
  {
   "cell_type": "markdown",
   "id": "3c18121e",
   "metadata": {},
   "source": [
    "### Define time range"
   ]
  },
  {
   "cell_type": "code",
   "execution_count": null,
   "id": "b7b72089",
   "metadata": {},
   "outputs": [],
   "source": [
    "current_datetime = datetime.now() - relativedelta(months=2)\n",
    "\n",
    "formatted_datetime = current_datetime.strftime(\"%Y-%m-%d\")"
   ]
  },
  {
   "cell_type": "markdown",
   "id": "349edf22",
   "metadata": {},
   "source": [
    "### Get data by API"
   ]
  },
  {
   "cell_type": "code",
   "execution_count": null,
   "id": "d3c51325",
   "metadata": {},
   "outputs": [],
   "source": [
    "# headers ={\"X-App Token\": os.environ.get(\"CHICAGO_API_TOKEN\")}\n",
    "\n",
    "url = (\n",
    "    f\"https://data.cityofchicago.org/resource/ajtu-isnz.json?\"\n",
    "    f\"$where=trip_start_timestamp >= '{formatted_datetime}T00:00:00' \"\n",
    "    f\"AND trip_start_timestamp <= '{formatted_datetime}T23:59:59'&$limit=30000\")\n",
    "\n",
    "\n",
    "response = requests.get(url)\n",
    "\n",
    "data = response.json()\n",
    "\n",
    "taxi_trips = pd.DataFrame(data)\n"
   ]
  },
  {
   "cell_type": "markdown",
   "id": "232ed23c",
   "metadata": {},
   "source": [
    "#### TaxiTrip Transform 1: Deal with NaN"
   ]
  },
  {
   "cell_type": "code",
   "execution_count": null,
   "id": "f8e00c38",
   "metadata": {},
   "outputs": [],
   "source": [
    "taxi_trips.drop([\"pickup_census_tract\", \"dropoff_census_tract\"], axis=1, inplace=True)\n",
    "\n",
    "taxi_trips.drop([\"pickup_centroid_location\", \"dropoff_centroid_location\"], axis=1, inplace=True)\n",
    "\n",
    "taxi_trips.dropna(inplace=True)"
   ]
  },
  {
   "cell_type": "markdown",
   "id": "5d5389f5",
   "metadata": {},
   "source": [
    "#### TaxiTrip Transform 2: Renaming"
   ]
  },
  {
   "cell_type": "code",
   "execution_count": null,
   "id": "45185f03",
   "metadata": {},
   "outputs": [],
   "source": [
    "taxi_trips.rename(columns={\"pickup_community_area\": \"pickup_community_area_id\", \"dropoff_community_area\": \"dropoff_community_area_id\"}, inplace=True)"
   ]
  },
  {
   "cell_type": "markdown",
   "id": "37ae303b",
   "metadata": {},
   "source": [
    "#### TaxiTrip Transform 3: Helper Column"
   ]
  },
  {
   "cell_type": "code",
   "execution_count": null,
   "id": "7f3555f6",
   "metadata": {},
   "outputs": [],
   "source": [
    "taxi_trips[\"trip_start_timestamp\"] = pd.to_datetime(taxi_trips[\"trip_start_timestamp\"])\n",
    "\n",
    "taxi_trips[\"datetime_for_weather\"] = taxi_trips[\"trip_start_timestamp\"].dt.floor(\"h\")"
   ]
  },
  {
   "cell_type": "markdown",
   "id": "aa121359",
   "metadata": {},
   "source": [
    "### Get Weather data"
   ]
  },
  {
   "cell_type": "code",
   "execution_count": null,
   "id": "106f1d27",
   "metadata": {},
   "outputs": [],
   "source": [
    "url = \"https://archive-api.open-meteo.com/v1/era5?latitude=52.52&longitude=13.41&start_date=2021-01-01&end_date=2021-12-31&hourly=temperature_2m\"\n",
    "\n",
    "response = requests.get(url)\n",
    "\n",
    "data = response.json()"
   ]
  },
  {
   "cell_type": "markdown",
   "id": "29f094ee",
   "metadata": {},
   "source": [
    "#### Weather data: Params"
   ]
  },
  {
   "cell_type": "code",
   "execution_count": null,
   "id": "5e5d410b",
   "metadata": {},
   "outputs": [],
   "source": [
    "url_mod = \"https://archive-api.open-meteo.com/v1/era5\"\n",
    "\n",
    "date = \"2013-06-01\"\n",
    "\n",
    "params = {\n",
    "    \"latitude\" : 41.85, \n",
    "    \"longitude\" : -87.65,\n",
    "    \"start_date\" : date,\n",
    "    \"end_date\" : date,\n",
    "    \"hourly\" : \"temperature_2m,wind_speed_10m,rain,precipitation\"\n",
    "    }\n",
    "\n",
    "response_mod = requests.get(url_mod, params=params)\n",
    "\n",
    "weather_data = response_mod.json()"
   ]
  },
  {
   "cell_type": "markdown",
   "id": "d5706326",
   "metadata": {},
   "source": [
    "#### Weather data: Filtered"
   ]
  },
  {
   "cell_type": "code",
   "execution_count": null,
   "id": "bedbd440",
   "metadata": {},
   "outputs": [],
   "source": [
    "weather_data_filtered = {\"date_time\": weather_data[\"hourly\"][\"time\"], \n",
    "    \"temperature\": weather_data[\"hourly\"][\"temperature_2m\"],\n",
    "    \"wind_speed\": weather_data[\"hourly\"][\"wind_speed_10m\"],\n",
    "    \"rain\": weather_data[\"hourly\"][\"rain\"],\n",
    "    \"precipitation\" : weather_data[\"hourly\"][\"precipitation\"] }\n",
    "\n",
    "weather_df = pd.DataFrame(weather_data_filtered)"
   ]
  },
  {
   "cell_type": "markdown",
   "id": "eb4bad79",
   "metadata": {},
   "source": [
    "#### Weather data: Convert date-time"
   ]
  },
  {
   "cell_type": "code",
   "execution_count": null,
   "id": "626a56ce",
   "metadata": {},
   "outputs": [],
   "source": [
    "weather_df[\"date_time\"] = pd.to_datetime(weather_df[\"date_time\"])"
   ]
  },
  {
   "cell_type": "markdown",
   "id": "df32f304",
   "metadata": {},
   "source": [
    "### Merge TaxiTrips & Weather"
   ]
  },
  {
   "cell_type": "code",
   "execution_count": null,
   "id": "e857c390",
   "metadata": {},
   "outputs": [],
   "source": [
    "taxi_trips_with_weather = taxi_trips.merge(weather_df, left_on=\"datetime_for_weather\", right_on=\"date_time\")"
   ]
  },
  {
   "cell_type": "markdown",
   "id": "befa4267",
   "metadata": {},
   "source": [
    "### TaxiTrips: Data Types"
   ]
  },
  {
   "cell_type": "code",
   "execution_count": null,
   "id": "e1b83dc6",
   "metadata": {},
   "outputs": [],
   "source": [
    "data_types = {\"trip_end_timestamp\": \"datetime64[ns]\", \n",
    "              \"trip_seconds\": \"int32\", \n",
    "              \"trip_miles\": \"float\", \n",
    "              \"pickup_community_area_id\" : \"int8\",\n",
    "              \"dropoff_community_area_id\" : \"int8\",\n",
    "              \"fare\": \"float\", \n",
    "              \"tips\": \"float\", \n",
    "              \"tolls\": \"float\", \n",
    "              \"extras\": \"float\", \n",
    "              \"trip_total\": \"float\"}\n",
    "\n",
    "taxi_trips = taxi_trips.astype(data_types)"
   ]
  },
  {
   "cell_type": "markdown",
   "id": "9a5bc42f",
   "metadata": {},
   "source": [
    "### TaxiTrips: Sanity-Check"
   ]
  },
  {
   "cell_type": "code",
   "execution_count": null,
   "id": "21d92474",
   "metadata": {},
   "outputs": [],
   "source": [
    "taxi_trips[taxi_trips[\"trip_end_timestamp\"] == taxi_trips[\"trip_end_timestamp\"].max()]\n",
    "\n",
    "# taxi_trips.nlargest(10, \"fare\")"
   ]
  },
  {
   "cell_type": "markdown",
   "id": "75767494",
   "metadata": {},
   "source": [
    "### Data Modeling"
   ]
  },
  {
   "cell_type": "code",
   "execution_count": null,
   "id": "78ef187e",
   "metadata": {},
   "outputs": [],
   "source": [
    "payment_type_master = taxi_trips[\"payment_type\"].drop_duplicates().reset_index(drop=True)\n",
    "\n",
    "payment_type_master = pd.DataFrame(\n",
    "    {\n",
    "        \"payment_type_id\" : range(1, len(payment_type_master) + 1),\n",
    "        \"payment_type\": payment_type_master\n",
    "    })\n",
    "\n",
    "payment_type_master"
   ]
  },
  {
   "cell_type": "code",
   "execution_count": null,
   "id": "159b882d",
   "metadata": {},
   "outputs": [],
   "source": [
    "company_master = taxi_trips[\"company\"].drop_duplicates().reset_index(drop=True)\n",
    "\n",
    "company_master = pd.DataFrame(\n",
    "    {\n",
    "        \"company_id\" : range(1, len(company_master) + 1),\n",
    "        \"company\": company_master\n",
    "    })\n",
    "\n",
    "company_master"
   ]
  },
  {
   "cell_type": "code",
   "execution_count": null,
   "id": "4cf613ea",
   "metadata": {},
   "outputs": [],
   "source": [
    "taxi_trips_id = taxi_trips.merge(payment_type_master, on = \"payment_type\")\n",
    "\n",
    "taxi_trips_id = taxi_trips_id.merge(company_master, on = \"company\")\n",
    "\n",
    "taxi_trips_id.sample(5)"
   ]
  },
  {
   "cell_type": "code",
   "execution_count": null,
   "id": "2bd3f2a6",
   "metadata": {},
   "outputs": [],
   "source": [
    "taxi_trips_id.drop([\"payment_type\", \"company\"], axis = 1, inplace=True)"
   ]
  },
  {
   "cell_type": "code",
   "execution_count": null,
   "id": "aae06510",
   "metadata": {},
   "outputs": [],
   "source": [
    "payment_type_master.to_csv(\"Payment_type_master.csv\", index=False)\n",
    "\n",
    "company_master.to_csv(\"Company_master.csv\", index=False)"
   ]
  },
  {
   "cell_type": "markdown",
   "id": "d5542f63",
   "metadata": {},
   "source": [
    "### Check the Modeling"
   ]
  },
  {
   "cell_type": "markdown",
   "id": "40e9579e",
   "metadata": {},
   "source": [
    "#### 1. Payment-type"
   ]
  },
  {
   "cell_type": "code",
   "execution_count": null,
   "id": "2e2daa27",
   "metadata": {},
   "outputs": [],
   "source": [
    "payment_type_master = taxi_trips[\"payment_type\"].drop_duplicates().reset_index(drop=True)\n",
    "\n",
    "payment_type_master = pd.DataFrame(\n",
    "    {\n",
    "        \"payment_type_id\" : range(1, len(payment_type_master) + 1),\n",
    "        \"payment_type\": payment_type_master\n",
    "    })\n",
    "\n",
    "payment_type_master"
   ]
  },
  {
   "cell_type": "code",
   "execution_count": null,
   "id": "60624906",
   "metadata": {},
   "outputs": [],
   "source": [
    "new_payment_type_data = [\n",
    "    {\"payment_type\": \"Credit Card\"},\n",
    "    {\"payment_type\": \"X\"},\n",
    "    {\"payment_type\": \"Y\"}]\n",
    "\n",
    "new_payment_type_mapping = pd.DataFrame(new_payment_type_data)"
   ]
  },
  {
   "cell_type": "code",
   "execution_count": null,
   "id": "b7493c04",
   "metadata": {},
   "outputs": [],
   "source": [
    "payment_type_max_id = payment_type_master[\"payment_type_id\"].max()"
   ]
  },
  {
   "cell_type": "code",
   "execution_count": null,
   "id": "f69f8de5",
   "metadata": {},
   "outputs": [],
   "source": [
    "new_payment_type_mapping[\"payment_type_id\"] = range(payment_type_max_id + 1, payment_type_max_id + len(new_payment_type_mapping) + 1)\n",
    "\n",
    "new_payment_type_mapping"
   ]
  },
  {
   "cell_type": "code",
   "execution_count": null,
   "id": "88bdec83",
   "metadata": {},
   "outputs": [],
   "source": [
    "new_payment_types = new_payment_type_mapping[~new_payment_type_mapping[\"payment_type\"].isin(payment_type_master[\"payment_type\"])]\n",
    "\n",
    "new_payment_types"
   ]
  },
  {
   "cell_type": "code",
   "execution_count": null,
   "id": "3999e531",
   "metadata": {},
   "outputs": [],
   "source": [
    "if not new_payment_types.empty:\n",
    "    payment_type_master = pd.concat([payment_type_master, new_payment_types], ignore_index=True)"
   ]
  },
  {
   "cell_type": "code",
   "execution_count": null,
   "id": "653def85",
   "metadata": {},
   "outputs": [],
   "source": [
    "payment_type_master"
   ]
  },
  {
   "cell_type": "markdown",
   "id": "1e72b527",
   "metadata": {},
   "source": [
    "#### 2. Company-check"
   ]
  },
  {
   "cell_type": "code",
   "execution_count": null,
   "id": "5ae67c89",
   "metadata": {},
   "outputs": [],
   "source": [
    "company_master = taxi_trips[\"company\"].drop_duplicates().reset_index(drop=True)\n",
    "\n",
    "company_master = pd.DataFrame(\n",
    "    {\n",
    "        \"company_id\" : range(1, len(company_master) + 1),\n",
    "        \"company\": company_master\n",
    "    })\n"
   ]
  },
  {
   "cell_type": "code",
   "execution_count": null,
   "id": "8c292064",
   "metadata": {},
   "outputs": [],
   "source": [
    "new_company_data = [\n",
    "    {\"company\": \"Sun Taxi\"},\n",
    "    {\"company\": \"X\"},\n",
    "    {\"company\": \"Y\"}]\n",
    "\n",
    "new_company_mapping = pd.DataFrame(new_company_data)\n",
    "\n",
    "new_company_mapping"
   ]
  },
  {
   "cell_type": "code",
   "execution_count": null,
   "id": "5f1ceb42",
   "metadata": {},
   "outputs": [],
   "source": [
    "company_max_id = company_master[\"company_id\"].max()"
   ]
  },
  {
   "cell_type": "code",
   "execution_count": null,
   "id": "f4f23ac2",
   "metadata": {},
   "outputs": [],
   "source": [
    "new_company_mapping[\"company_id\"] = range(company_max_id + 1, company_max_id + len(new_company_mapping) + 1)\n",
    "\n",
    "new_company_mapping"
   ]
  },
  {
   "cell_type": "code",
   "execution_count": null,
   "id": "5ac5715e",
   "metadata": {},
   "outputs": [],
   "source": [
    "new_companies = new_company_mapping[~new_company_mapping[\"company\"].isin(company_master[\"company\"])]\n",
    "\n",
    "new_companies"
   ]
  },
  {
   "cell_type": "code",
   "execution_count": null,
   "id": "a8b67986",
   "metadata": {},
   "outputs": [],
   "source": [
    "if not new_companies.empty:\n",
    "    company_master = pd.concat([company_master, new_companies], ignore_index=True)\n",
    "\n",
    "company_master"
   ]
  },
  {
   "cell_type": "code",
   "execution_count": null,
   "id": "155c08e2",
   "metadata": {},
   "outputs": [],
   "source": []
  }
 ],
 "metadata": {
  "kernelspec": {
   "display_name": "Python 3",
   "language": "python",
   "name": "python3"
  },
  "language_info": {
   "codemirror_mode": {
    "name": "ipython",
    "version": 3
   },
   "file_extension": ".py",
   "mimetype": "text/x-python",
   "name": "python",
   "nbconvert_exporter": "python",
   "pygments_lexer": "ipython3",
   "version": "3.13.1"
  }
 },
 "nbformat": 4,
 "nbformat_minor": 5
}
