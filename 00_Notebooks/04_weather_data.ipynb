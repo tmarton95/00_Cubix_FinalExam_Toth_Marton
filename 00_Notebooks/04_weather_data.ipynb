{
 "cells": [
  {
   "cell_type": "code",
   "execution_count": null,
   "id": "2894f8db",
   "metadata": {},
   "outputs": [],
   "source": [
    "import pandas as pd\n",
    "import requests\n",
    "import os\n",
    "from dateutil.relativedelta import relativedelta"
   ]
  },
  {
   "cell_type": "code",
   "execution_count": null,
   "id": "c7ad7acc",
   "metadata": {},
   "outputs": [],
   "source": [
    "url = \"https://archive-api.open-meteo.com/v1/era5?latitude=52.52&longitude=13.41&start_date=2021-01-01&end_date=2021-12-31&hourly=temperature_2m\"\n",
    "\n",
    "response = requests.get(url)\n",
    "\n",
    "data = response.json()\n"
   ]
  },
  {
   "cell_type": "code",
   "execution_count": null,
   "id": "cb33a2ce",
   "metadata": {},
   "outputs": [],
   "source": [
    "url_mod = \"https://archive-api.open-meteo.com/v1/era5\"\n",
    "\n",
    "date = \"2013-06-01\"\n",
    "\n",
    "params = {\n",
    "    \"latitude\" : 41.85, \n",
    "    \"longitude\" : -87.65,\n",
    "    \"start_date\" : date,\n",
    "    \"end_date\" : date,\n",
    "    \"hourly\" : \"temperature_2m,wind_speed_10m,rain,precipitation\"\n",
    "    }\n"
   ]
  },
  {
   "cell_type": "code",
   "execution_count": null,
   "id": "78c42d83",
   "metadata": {},
   "outputs": [],
   "source": [
    "response_mod = requests.get(url_mod, params=params)\n",
    "\n",
    "weather_data = response_mod.json()\n",
    "\n",
    "weather_data_filtered = {\"date_time\": weather_data[\"hourly\"][\"time\"], \n",
    "    \"temperature\": weather_data[\"hourly\"][\"temperature_2m\"],\n",
    "    \"wind_speed\": weather_data[\"hourly\"][\"wind_speed_10m\"],\n",
    "    \"rain\": weather_data[\"hourly\"][\"rain\"],\n",
    "    \"precipitation\" : weather_data[\"hourly\"][\"precipitation\"] }"
   ]
  },
  {
   "cell_type": "code",
   "execution_count": null,
   "id": "01f34f06",
   "metadata": {},
   "outputs": [],
   "source": [
    "weather_df = pd.DataFrame(weather_data_filtered)\n",
    "\n",
    "weather_df[\"date_time\"] = pd.to_datetime(weather_df[\"date_time\"])\n",
    "\n",
    "print(weather_df.head())\n",
    "\n",
    "print(weather_df.info())\n",
    "\n",
    "weather_df.to_csv(\"wheather_data_date.csv\", index=False)"
   ]
  }
 ],
 "metadata": {
  "language_info": {
   "name": "python"
  }
 },
 "nbformat": 4,
 "nbformat_minor": 5
}
