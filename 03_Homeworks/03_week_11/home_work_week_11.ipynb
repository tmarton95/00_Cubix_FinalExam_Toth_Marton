{
 "cells": [
  {
   "cell_type": "code",
   "execution_count": null,
   "id": "1d40d817",
   "metadata": {},
   "outputs": [],
   "source": [
    "-- Task 1: extract the top 10 company with highest fare-rate\n",
    "SELECT\n",
    "    c.company,\n",
    "    Round(SUM(tt.fare)) AS fare_tot\n",
    "FROM \n",
    "    \"chicago_taxi_db\".\"taxi_trips\" tt\n",
    "INNER JOIN\n",
    "    \"chicago_taxi_db\".\"company\" c\n",
    "    ON tt.company_id = c.company_id\n",
    "GROUP BY\n",
    "    c.company\n",
    "ORDER BY\n",
    "    fare_tot DESC\n",
    "LIMIT\n",
    "    10"
   ]
  },
  {
   "cell_type": "code",
   "execution_count": null,
   "id": "008d75e0",
   "metadata": {},
   "outputs": [],
   "source": [
    "-- Task 2: Extract the top 10 pickup community areas with the most rides\n",
    "SELECT\n",
    "    c.community_name,\n",
    "    COUNT(trip_id) as trip_count\n",
    "FROM \n",
    "    \"chicago_taxi_db\".\"taxi_trips\" tt\n",
    "INNER JOIN\n",
    "    \"chicago_taxi_db\".\"community_areas\" c\n",
    "    ON tt.pickup_community_area_id = c.area_code\n",
    "GROUP BY\n",
    "    c.community_name\n",
    "ORDER BY\n",
    "    trip_count DESC\n",
    "LIMIT\n",
    "    10"
   ]
  },
  {
   "cell_type": "code",
   "execution_count": null,
   "id": "ae20a5e2",
   "metadata": {},
   "outputs": [],
   "source": [
    "-- Task 3: extract the number of trips for each day of week\n",
    "SELECT\n",
    "    CASE day_of_week(DATE(datetime_for_weather))\n",
    "        WHEN 1 THEN 'Monday'\n",
    "        WHEN 2 THEN 'Tuesday'\n",
    "        WHEN 3 THEN 'Wednesday'\n",
    "        WHEN 4 THEN 'Thursday'\n",
    "        WHEN 5 THEN 'Friday'\n",
    "        WHEN 6 THEN 'Saturday'\n",
    "        WHEN 7 THEN 'Sunday'\n",
    "    END AS day_names,\n",
    "    COUNT(trip_id) as trip_count\n",
    "FROM \n",
    "    \"chicago_taxi_db\".\"taxi_trips\"\n",
    "GROUP BY\n",
    "    day_of_week(DATE(datetime_for_weather))\n",
    "ORDER BY CASE day_names\n",
    "         WHEN 'Monday' THEN 1\n",
    "         WHEN 'Tuesday' THEN 2\n",
    "         WHEN 'Wednesday' THEN 3\n",
    "         WHEN 'Thursday' THEN 4\n",
    "         WHEN 'Friday' THEN 5\n",
    "         WHEN 'Saturday' THEN 6\n",
    "         WHEN 'Sunday' THEN 7\n",
    "     END;"
   ]
  }
 ],
 "metadata": {
  "language_info": {
   "name": "python"
  }
 },
 "nbformat": 4,
 "nbformat_minor": 5
}
